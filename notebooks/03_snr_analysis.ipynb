{
 "cells": [
  {
   "cell_type": "code",
   "execution_count": 86,
   "metadata": {},
   "outputs": [
    {
     "data": {
      "text/plain": [
       "(0.043814863426780704,\n",
       " 0.07729590998420716,\n",
       " 0.04812666715512276,\n",
       " 0.03205699787864685)"
      ]
     },
     "execution_count": 86,
     "metadata": {},
     "output_type": "execute_result"
    }
   ],
   "source": [
    "import numpy as np\n",
    "import os\n",
    "from sklearn.decomposition import PCA\n",
    "\n",
    "# Ensure we're in the correct directory\n",
    "if os.path.basename(os.getcwd()) == 'notebooks':\n",
    "    os.chdir('..')\n",
    "\n",
    "import os\n",
    "\n",
    "# Ensure we're in the correct directory\n",
    "if os.path.basename(os.getcwd()) == 'notebooks':\n",
    "    os.chdir('..')\n",
    "\n",
    "def compute_std_deviation(data):\n",
    "    std_dev_subjects = np.std(data, axis=-1)\n",
    "    mean_std_dev = np.mean(std_dev_subjects)\n",
    "    return std_dev_subjects, mean_std_dev\n",
    "\n",
    "def compute_pca_based_tsnr(data):\n",
    "    \"\"\"\n",
    "    Compute the PCA-based temporal SNR (tSNR) for a mean-centered 2D array of fMRI data.\n",
    "\n",
    "    Parameters:\n",
    "    data (numpy.ndarray): 2D array with shape (subjects, timepoints)\n",
    "\n",
    "    Returns:\n",
    "    tsnr (numpy.ndarray): 1D array of PCA-based tSNR values for each subject\n",
    "    mean_tsnr (float): Mean PCA-based tSNR value across all subjects\n",
    "    \"\"\"\n",
    "    # Replace NaNs with zeros\n",
    "    data = np.nan_to_num(data)\n",
    "    \n",
    "    pca = PCA(n_components=1)\n",
    "    pca.fit(data)\n",
    "    variance_explained = pca.explained_variance_ratio_[0]\n",
    "    variance_explained = np.nan_to_num(variance_explained)\n",
    "\n",
    "    # Total variance\n",
    "    total_variance = np.var(data)\n",
    "\n",
    "    # Compute SNR as the ratio of explained variance to total variance\n",
    "    tsnr = variance_explained / total_variance + 10e-8\n",
    "    return tsnr\n",
    "\n",
    "gsp_bold_signal_120 = np.load('bold_signal/GSP1000_MF_bold_brainstem_masked_120.npy')\n",
    "gsp_bold_signal_240 = np.load('bold_signal/GSP1000_MF_bold_brainstem_masked_240.npy')\n",
    "\n",
    "yeo_bold_signal_120 = np.load('bold_signal/yeo1000_dil_bold_brainstem_masked_120.npy')\n",
    "yeo_bold_signal_240 = np.load('bold_signal/yeo1000_dil_bold_brainstem_masked_240.npy')\n",
    "\n",
    "std_dev_subjects_gsp_120, _ = compute_std_deviation(gsp_bold_signal_120)\n",
    "std_dev_subjects_gsp_240, _ = compute_std_deviation(gsp_bold_signal_240)\n",
    "std_dev_subjects_gsp = np.concatenate((std_dev_subjects_gsp_120, std_dev_subjects_gsp_240))\n",
    "std_dev_gsp = np.mean(std_dev_subjects_gsp)\n",
    "\n",
    "std_dev_subjects_yeo_120, _ = compute_std_deviation(yeo_bold_signal_120)\n",
    "std_dev_subjects_yeo_240, _ = compute_std_deviation(yeo_bold_signal_240)\n",
    "std_dev_subjects_yeo = np.concatenate((std_dev_subjects_yeo_120, std_dev_subjects_yeo_240))\n",
    "std_dev_yeo = np.mean(std_dev_subjects_yeo)\n",
    "\n",
    "tsnr_gsp_120 = compute_pca_based_tsnr(gsp_bold_signal_120)\n",
    "tsnr_gsp_240 = compute_pca_based_tsnr(gsp_bold_signal_240)\n",
    "\n",
    "tsnr_yeo_120 = compute_pca_based_tsnr(yeo_bold_signal_120)\n",
    "tsnr_yeo_240 = compute_pca_based_tsnr(yeo_bold_signal_240)\n",
    "\n",
    "tsnr_gsp_120, tsnr_gsp_240, tsnr_yeo_120, tsnr_yeo_240"
   ]
  },
  {
   "cell_type": "code",
   "execution_count": 82,
   "metadata": {},
   "outputs": [
    {
     "ename": "ValueError",
     "evalue": "Expected 2D array, got 1D array instead:\narray=[-0.639258   -1.3949469  -0.63521624 -0.2965068  -0.24732064  0.39550018\n  0.08454558  0.09001622 -1.1403353   0.31271002  0.6582472  -0.09484324\n  0.37010816 -0.04106676 -0.52963305  0.03159033  0.1298264  -0.5212377\n -0.27934945 -1.6378692  -0.36134666  0.26041654  0.86919385  0.466218\n  0.5928743   0.78299206 -0.12164326 -0.87376565 -0.835502    0.6353926\n  0.9005783   1.5848908   0.6131429   0.9198853   0.81716526 -0.4530933\n  0.12807953  0.4149673   0.76539826  0.8549888  -0.23153551 -0.3568422\n  1.090104    1.5439651   0.4247892  -0.4843652   0.1303443   1.5565187\n  0.85002744 -0.5689713  -1.076852   -0.49478886 -0.5349232  -1.279357\n -1.6244261   0.4673095   0.9865247   0.6779707  -0.8464272  -1.1076857\n  0.03448715 -0.38068607 -1.3262506  -1.4073479   0.36564845  1.4889113\n  0.56163    -0.17138898 -0.4180621   0.72894406  1.3397148   0.7908254\n -0.11477878 -0.6435011  -1.0349277  -1.9027414  -1.2467178   0.27131698\n  1.753837    0.53932416 -1.1121708  -0.10604396  0.5317817   0.04033422\n -0.767287   -0.24720557  0.6156918   1.0873094  -0.00605314 -1.0267562\n  0.36621705 -0.44796216 -0.93954    -0.642586   -0.17241362  0.51006943\n  0.32684118  0.9395232   0.9678487   0.38958612 -0.47134677 -0.10146586\n  0.21753596  0.07711204 -0.16665544  0.25285986 -0.25417656 -0.4157163\n -0.07203864 -0.8662232  -0.43556073  1.3779159   1.9602745  -0.5064307\n -1.3924332  -1.4679946  -0.25918213  1.8344953   0.74226993 -1.2857094 ].\nReshape your data either using array.reshape(-1, 1) if your data has a single feature or array.reshape(1, -1) if it contains a single sample.",
     "output_type": "error",
     "traceback": [
      "\u001b[0;31m---------------------------------------------------------------------------\u001b[0m",
      "\u001b[0;31mValueError\u001b[0m                                Traceback (most recent call last)",
      "Cell \u001b[0;32mIn[82], line 29\u001b[0m\n\u001b[1;32m     27\u001b[0m \u001b[38;5;66;03m# Now do pca on this array\u001b[39;00m\n\u001b[1;32m     28\u001b[0m pca \u001b[38;5;241m=\u001b[39m PCA(n_components\u001b[38;5;241m=\u001b[39m\u001b[38;5;241m1\u001b[39m)\n\u001b[0;32m---> 29\u001b[0m \u001b[43mpca\u001b[49m\u001b[38;5;241;43m.\u001b[39;49m\u001b[43mfit\u001b[49m\u001b[43m(\u001b[49m\u001b[43marray\u001b[49m\u001b[43m)\u001b[49m\n\u001b[1;32m     30\u001b[0m pca\u001b[38;5;241m.\u001b[39mexplained_variance_ratio_\n\u001b[1;32m     32\u001b[0m \u001b[38;5;66;03m# Throws this error:\u001b[39;00m\n\u001b[1;32m     33\u001b[0m \u001b[38;5;66;03m# RuntimeWarning: invalid value encountered in divide\u001b[39;00m\n\u001b[1;32m     34\u001b[0m \u001b[38;5;66;03m#   explained_variance_ = (S**2) / (n_samples - 1)\u001b[39;00m\n",
      "File \u001b[0;32m~/joseph_env/lib/python3.12/site-packages/sklearn/base.py:1351\u001b[0m, in \u001b[0;36m_fit_context.<locals>.decorator.<locals>.wrapper\u001b[0;34m(estimator, *args, **kwargs)\u001b[0m\n\u001b[1;32m   1344\u001b[0m     estimator\u001b[38;5;241m.\u001b[39m_validate_params()\n\u001b[1;32m   1346\u001b[0m \u001b[38;5;28;01mwith\u001b[39;00m config_context(\n\u001b[1;32m   1347\u001b[0m     skip_parameter_validation\u001b[38;5;241m=\u001b[39m(\n\u001b[1;32m   1348\u001b[0m         prefer_skip_nested_validation \u001b[38;5;129;01mor\u001b[39;00m global_skip_validation\n\u001b[1;32m   1349\u001b[0m     )\n\u001b[1;32m   1350\u001b[0m ):\n\u001b[0;32m-> 1351\u001b[0m     \u001b[38;5;28;01mreturn\u001b[39;00m \u001b[43mfit_method\u001b[49m\u001b[43m(\u001b[49m\u001b[43mestimator\u001b[49m\u001b[43m,\u001b[49m\u001b[43m \u001b[49m\u001b[38;5;241;43m*\u001b[39;49m\u001b[43margs\u001b[49m\u001b[43m,\u001b[49m\u001b[43m \u001b[49m\u001b[38;5;241;43m*\u001b[39;49m\u001b[38;5;241;43m*\u001b[39;49m\u001b[43mkwargs\u001b[49m\u001b[43m)\u001b[49m\n",
      "File \u001b[0;32m~/joseph_env/lib/python3.12/site-packages/sklearn/decomposition/_pca.py:428\u001b[0m, in \u001b[0;36mPCA.fit\u001b[0;34m(self, X, y)\u001b[0m\n\u001b[1;32m    410\u001b[0m \u001b[38;5;129m@_fit_context\u001b[39m(prefer_skip_nested_validation\u001b[38;5;241m=\u001b[39m\u001b[38;5;28;01mTrue\u001b[39;00m)\n\u001b[1;32m    411\u001b[0m \u001b[38;5;28;01mdef\u001b[39;00m \u001b[38;5;21mfit\u001b[39m(\u001b[38;5;28mself\u001b[39m, X, y\u001b[38;5;241m=\u001b[39m\u001b[38;5;28;01mNone\u001b[39;00m):\n\u001b[1;32m    412\u001b[0m \u001b[38;5;250m    \u001b[39m\u001b[38;5;124;03m\"\"\"Fit the model with X.\u001b[39;00m\n\u001b[1;32m    413\u001b[0m \n\u001b[1;32m    414\u001b[0m \u001b[38;5;124;03m    Parameters\u001b[39;00m\n\u001b[0;32m   (...)\u001b[0m\n\u001b[1;32m    426\u001b[0m \u001b[38;5;124;03m        Returns the instance itself.\u001b[39;00m\n\u001b[1;32m    427\u001b[0m \u001b[38;5;124;03m    \"\"\"\u001b[39;00m\n\u001b[0;32m--> 428\u001b[0m     \u001b[38;5;28;43mself\u001b[39;49m\u001b[38;5;241;43m.\u001b[39;49m\u001b[43m_fit\u001b[49m\u001b[43m(\u001b[49m\u001b[43mX\u001b[49m\u001b[43m)\u001b[49m\n\u001b[1;32m    429\u001b[0m     \u001b[38;5;28;01mreturn\u001b[39;00m \u001b[38;5;28mself\u001b[39m\n",
      "File \u001b[0;32m~/joseph_env/lib/python3.12/site-packages/sklearn/decomposition/_pca.py:483\u001b[0m, in \u001b[0;36mPCA._fit\u001b[0;34m(self, X)\u001b[0m\n\u001b[1;32m    478\u001b[0m \u001b[38;5;28;01mif\u001b[39;00m \u001b[38;5;28mself\u001b[39m\u001b[38;5;241m.\u001b[39msvd_solver \u001b[38;5;241m==\u001b[39m \u001b[38;5;124m\"\u001b[39m\u001b[38;5;124marpack\u001b[39m\u001b[38;5;124m\"\u001b[39m \u001b[38;5;129;01mand\u001b[39;00m is_array_api_compliant:\n\u001b[1;32m    479\u001b[0m     \u001b[38;5;28;01mraise\u001b[39;00m \u001b[38;5;167;01mValueError\u001b[39;00m(\n\u001b[1;32m    480\u001b[0m         \u001b[38;5;124m\"\u001b[39m\u001b[38;5;124mPCA with svd_solver=\u001b[39m\u001b[38;5;124m'\u001b[39m\u001b[38;5;124marpack\u001b[39m\u001b[38;5;124m'\u001b[39m\u001b[38;5;124m is not supported for Array API inputs.\u001b[39m\u001b[38;5;124m\"\u001b[39m\n\u001b[1;32m    481\u001b[0m     )\n\u001b[0;32m--> 483\u001b[0m X \u001b[38;5;241m=\u001b[39m \u001b[38;5;28;43mself\u001b[39;49m\u001b[38;5;241;43m.\u001b[39;49m\u001b[43m_validate_data\u001b[49m\u001b[43m(\u001b[49m\n\u001b[1;32m    484\u001b[0m \u001b[43m    \u001b[49m\u001b[43mX\u001b[49m\u001b[43m,\u001b[49m\n\u001b[1;32m    485\u001b[0m \u001b[43m    \u001b[49m\u001b[43mdtype\u001b[49m\u001b[38;5;241;43m=\u001b[39;49m\u001b[43m[\u001b[49m\u001b[43mxp\u001b[49m\u001b[38;5;241;43m.\u001b[39;49m\u001b[43mfloat64\u001b[49m\u001b[43m,\u001b[49m\u001b[43m \u001b[49m\u001b[43mxp\u001b[49m\u001b[38;5;241;43m.\u001b[39;49m\u001b[43mfloat32\u001b[49m\u001b[43m]\u001b[49m\u001b[43m,\u001b[49m\n\u001b[1;32m    486\u001b[0m \u001b[43m    \u001b[49m\u001b[43maccept_sparse\u001b[49m\u001b[38;5;241;43m=\u001b[39;49m\u001b[43m(\u001b[49m\u001b[38;5;124;43m\"\u001b[39;49m\u001b[38;5;124;43mcsr\u001b[39;49m\u001b[38;5;124;43m\"\u001b[39;49m\u001b[43m,\u001b[49m\u001b[43m \u001b[49m\u001b[38;5;124;43m\"\u001b[39;49m\u001b[38;5;124;43mcsc\u001b[39;49m\u001b[38;5;124;43m\"\u001b[39;49m\u001b[43m)\u001b[49m\u001b[43m,\u001b[49m\n\u001b[1;32m    487\u001b[0m \u001b[43m    \u001b[49m\u001b[43mensure_2d\u001b[49m\u001b[38;5;241;43m=\u001b[39;49m\u001b[38;5;28;43;01mTrue\u001b[39;49;00m\u001b[43m,\u001b[49m\n\u001b[1;32m    488\u001b[0m \u001b[43m    \u001b[49m\u001b[43mcopy\u001b[49m\u001b[38;5;241;43m=\u001b[39;49m\u001b[38;5;28;43mself\u001b[39;49m\u001b[38;5;241;43m.\u001b[39;49m\u001b[43mcopy\u001b[49m\u001b[43m,\u001b[49m\n\u001b[1;32m    489\u001b[0m \u001b[43m\u001b[49m\u001b[43m)\u001b[49m\n\u001b[1;32m    491\u001b[0m \u001b[38;5;66;03m# Handle n_components==None\u001b[39;00m\n\u001b[1;32m    492\u001b[0m \u001b[38;5;28;01mif\u001b[39;00m \u001b[38;5;28mself\u001b[39m\u001b[38;5;241m.\u001b[39mn_components \u001b[38;5;129;01mis\u001b[39;00m \u001b[38;5;28;01mNone\u001b[39;00m:\n",
      "File \u001b[0;32m~/joseph_env/lib/python3.12/site-packages/sklearn/base.py:633\u001b[0m, in \u001b[0;36mBaseEstimator._validate_data\u001b[0;34m(self, X, y, reset, validate_separately, cast_to_ndarray, **check_params)\u001b[0m\n\u001b[1;32m    631\u001b[0m         out \u001b[38;5;241m=\u001b[39m X, y\n\u001b[1;32m    632\u001b[0m \u001b[38;5;28;01melif\u001b[39;00m \u001b[38;5;129;01mnot\u001b[39;00m no_val_X \u001b[38;5;129;01mand\u001b[39;00m no_val_y:\n\u001b[0;32m--> 633\u001b[0m     out \u001b[38;5;241m=\u001b[39m \u001b[43mcheck_array\u001b[49m\u001b[43m(\u001b[49m\u001b[43mX\u001b[49m\u001b[43m,\u001b[49m\u001b[43m \u001b[49m\u001b[43minput_name\u001b[49m\u001b[38;5;241;43m=\u001b[39;49m\u001b[38;5;124;43m\"\u001b[39;49m\u001b[38;5;124;43mX\u001b[39;49m\u001b[38;5;124;43m\"\u001b[39;49m\u001b[43m,\u001b[49m\u001b[43m \u001b[49m\u001b[38;5;241;43m*\u001b[39;49m\u001b[38;5;241;43m*\u001b[39;49m\u001b[43mcheck_params\u001b[49m\u001b[43m)\u001b[49m\n\u001b[1;32m    634\u001b[0m \u001b[38;5;28;01melif\u001b[39;00m no_val_X \u001b[38;5;129;01mand\u001b[39;00m \u001b[38;5;129;01mnot\u001b[39;00m no_val_y:\n\u001b[1;32m    635\u001b[0m     out \u001b[38;5;241m=\u001b[39m _check_y(y, \u001b[38;5;241m*\u001b[39m\u001b[38;5;241m*\u001b[39mcheck_params)\n",
      "File \u001b[0;32m~/joseph_env/lib/python3.12/site-packages/sklearn/utils/validation.py:989\u001b[0m, in \u001b[0;36mcheck_array\u001b[0;34m(array, accept_sparse, accept_large_sparse, dtype, order, copy, force_all_finite, ensure_2d, allow_nd, ensure_min_samples, ensure_min_features, estimator, input_name)\u001b[0m\n\u001b[1;32m    982\u001b[0m         \u001b[38;5;28;01melse\u001b[39;00m:\n\u001b[1;32m    983\u001b[0m             msg \u001b[38;5;241m=\u001b[39m (\n\u001b[1;32m    984\u001b[0m                 \u001b[38;5;124mf\u001b[39m\u001b[38;5;124m\"\u001b[39m\u001b[38;5;124mExpected 2D array, got 1D array instead:\u001b[39m\u001b[38;5;130;01m\\n\u001b[39;00m\u001b[38;5;124marray=\u001b[39m\u001b[38;5;132;01m{\u001b[39;00marray\u001b[38;5;132;01m}\u001b[39;00m\u001b[38;5;124m.\u001b[39m\u001b[38;5;130;01m\\n\u001b[39;00m\u001b[38;5;124m\"\u001b[39m\n\u001b[1;32m    985\u001b[0m                 \u001b[38;5;124m\"\u001b[39m\u001b[38;5;124mReshape your data either using array.reshape(-1, 1) if \u001b[39m\u001b[38;5;124m\"\u001b[39m\n\u001b[1;32m    986\u001b[0m                 \u001b[38;5;124m\"\u001b[39m\u001b[38;5;124myour data has a single feature or array.reshape(1, -1) \u001b[39m\u001b[38;5;124m\"\u001b[39m\n\u001b[1;32m    987\u001b[0m                 \u001b[38;5;124m\"\u001b[39m\u001b[38;5;124mif it contains a single sample.\u001b[39m\u001b[38;5;124m\"\u001b[39m\n\u001b[1;32m    988\u001b[0m             )\n\u001b[0;32m--> 989\u001b[0m         \u001b[38;5;28;01mraise\u001b[39;00m \u001b[38;5;167;01mValueError\u001b[39;00m(msg)\n\u001b[1;32m    991\u001b[0m \u001b[38;5;28;01mif\u001b[39;00m dtype_numeric \u001b[38;5;129;01mand\u001b[39;00m \u001b[38;5;28mhasattr\u001b[39m(array\u001b[38;5;241m.\u001b[39mdtype, \u001b[38;5;124m\"\u001b[39m\u001b[38;5;124mkind\u001b[39m\u001b[38;5;124m\"\u001b[39m) \u001b[38;5;129;01mand\u001b[39;00m array\u001b[38;5;241m.\u001b[39mdtype\u001b[38;5;241m.\u001b[39mkind \u001b[38;5;129;01min\u001b[39;00m \u001b[38;5;124m\"\u001b[39m\u001b[38;5;124mUSV\u001b[39m\u001b[38;5;124m\"\u001b[39m:\n\u001b[1;32m    992\u001b[0m     \u001b[38;5;28;01mraise\u001b[39;00m \u001b[38;5;167;01mValueError\u001b[39;00m(\n\u001b[1;32m    993\u001b[0m         \u001b[38;5;124m\"\u001b[39m\u001b[38;5;124mdtype=\u001b[39m\u001b[38;5;124m'\u001b[39m\u001b[38;5;124mnumeric\u001b[39m\u001b[38;5;124m'\u001b[39m\u001b[38;5;124m is not compatible with arrays of bytes/strings.\u001b[39m\u001b[38;5;124m\"\u001b[39m\n\u001b[1;32m    994\u001b[0m         \u001b[38;5;124m\"\u001b[39m\u001b[38;5;124mConvert your data to numeric values explicitly instead.\u001b[39m\u001b[38;5;124m\"\u001b[39m\n\u001b[1;32m    995\u001b[0m     )\n",
      "\u001b[0;31mValueError\u001b[0m: Expected 2D array, got 1D array instead:\narray=[-0.639258   -1.3949469  -0.63521624 -0.2965068  -0.24732064  0.39550018\n  0.08454558  0.09001622 -1.1403353   0.31271002  0.6582472  -0.09484324\n  0.37010816 -0.04106676 -0.52963305  0.03159033  0.1298264  -0.5212377\n -0.27934945 -1.6378692  -0.36134666  0.26041654  0.86919385  0.466218\n  0.5928743   0.78299206 -0.12164326 -0.87376565 -0.835502    0.6353926\n  0.9005783   1.5848908   0.6131429   0.9198853   0.81716526 -0.4530933\n  0.12807953  0.4149673   0.76539826  0.8549888  -0.23153551 -0.3568422\n  1.090104    1.5439651   0.4247892  -0.4843652   0.1303443   1.5565187\n  0.85002744 -0.5689713  -1.076852   -0.49478886 -0.5349232  -1.279357\n -1.6244261   0.4673095   0.9865247   0.6779707  -0.8464272  -1.1076857\n  0.03448715 -0.38068607 -1.3262506  -1.4073479   0.36564845  1.4889113\n  0.56163    -0.17138898 -0.4180621   0.72894406  1.3397148   0.7908254\n -0.11477878 -0.6435011  -1.0349277  -1.9027414  -1.2467178   0.27131698\n  1.753837    0.53932416 -1.1121708  -0.10604396  0.5317817   0.04033422\n -0.767287   -0.24720557  0.6156918   1.0873094  -0.00605314 -1.0267562\n  0.36621705 -0.44796216 -0.93954    -0.642586   -0.17241362  0.51006943\n  0.32684118  0.9395232   0.9678487   0.38958612 -0.47134677 -0.10146586\n  0.21753596  0.07711204 -0.16665544  0.25285986 -0.25417656 -0.4157163\n -0.07203864 -0.8662232  -0.43556073  1.3779159   1.9602745  -0.5064307\n -1.3924332  -1.4679946  -0.25918213  1.8344953   0.74226993 -1.2857094 ].\nReshape your data either using array.reshape(-1, 1) if your data has a single feature or array.reshape(1, -1) if it contains a single sample."
     ]
    }
   ],
   "source": [
    "array = np.array([-0.639258  , -1.3949469 , -0.63521624, -0.2965068 , -0.24732064,\n",
    "         0.39550018,  0.08454558,  0.09001622, -1.1403353 ,  0.31271002,\n",
    "         0.6582472 , -0.09484324,  0.37010816, -0.04106676, -0.52963305,\n",
    "         0.03159033,  0.1298264 , -0.5212377 , -0.27934945, -1.6378692 ,\n",
    "        -0.36134666,  0.26041654,  0.86919385,  0.466218  ,  0.5928743 ,\n",
    "         0.78299206, -0.12164326, -0.87376565, -0.835502  ,  0.6353926 ,\n",
    "         0.9005783 ,  1.5848908 ,  0.6131429 ,  0.9198853 ,  0.81716526,\n",
    "        -0.4530933 ,  0.12807953,  0.4149673 ,  0.76539826,  0.8549888 ,\n",
    "        -0.23153551, -0.3568422 ,  1.090104  ,  1.5439651 ,  0.4247892 ,\n",
    "        -0.4843652 ,  0.1303443 ,  1.5565187 ,  0.85002744, -0.5689713 ,\n",
    "        -1.076852  , -0.49478886, -0.5349232 , -1.279357  , -1.6244261 ,\n",
    "         0.4673095 ,  0.9865247 ,  0.6779707 , -0.8464272 , -1.1076857 ,\n",
    "         0.03448715, -0.38068607, -1.3262506 , -1.4073479 ,  0.36564845,\n",
    "         1.4889113 ,  0.56163   , -0.17138898, -0.4180621 ,  0.72894406,\n",
    "         1.3397148 ,  0.7908254 , -0.11477878, -0.6435011 , -1.0349277 ,\n",
    "        -1.9027414 , -1.2467178 ,  0.27131698,  1.753837  ,  0.53932416,\n",
    "        -1.1121708 , -0.10604396,  0.5317817 ,  0.04033422, -0.767287  ,\n",
    "        -0.24720557,  0.6156918 ,  1.0873094 , -0.00605314, -1.0267562 ,\n",
    "         0.36621705, -0.44796216, -0.93954   , -0.642586  , -0.17241362,\n",
    "         0.51006943,  0.32684118,  0.9395232 ,  0.9678487 ,  0.38958612,\n",
    "        -0.47134677, -0.10146586,  0.21753596,  0.07711204, -0.16665544,\n",
    "         0.25285986, -0.25417656, -0.4157163 , -0.07203864, -0.8662232 ,\n",
    "        -0.43556073,  1.3779159 ,  1.9602745 , -0.5064307 , -1.3924332 ,\n",
    "        -1.4679946 , -0.25918213,  1.8344953 ,  0.74226993, -1.2857094 ])\n",
    "array.shape\n",
    "\n",
    "# Now do pca on this array\n",
    "pca = PCA(n_components=1)\n",
    "pca.fit(array)\n",
    "pca.explained_variance_ratio_\n",
    "\n",
    "# Throws this error:\n",
    "# RuntimeWarning: invalid value encountered in divide\n",
    "#   explained_variance_ = (S**2) / (n_samples - 1)\n"
   ]
  }
 ],
 "metadata": {
  "kernelspec": {
   "display_name": "Python 3",
   "language": "python",
   "name": "python3"
  },
  "language_info": {
   "codemirror_mode": {
    "name": "ipython",
    "version": 3
   },
   "file_extension": ".py",
   "mimetype": "text/x-python",
   "name": "python",
   "nbconvert_exporter": "python",
   "pygments_lexer": "ipython3",
   "version": "3.12.1"
  }
 },
 "nbformat": 4,
 "nbformat_minor": 2
}
