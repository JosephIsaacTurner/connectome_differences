{
 "cells": [
  {
   "cell_type": "markdown",
   "metadata": {},
   "source": [
    "Imports and function definitions"
   ]
  },
  {
   "cell_type": "code",
   "execution_count": 15,
   "metadata": {},
   "outputs": [],
   "source": [
    "import os\n",
    "from glob import glob\n",
    "from natsort import natsorted\n",
    "from nimlab import connectomics as cs\n",
    "from nimlab.connectomics import ConnectomeSubject\n",
    "from nimlab.jax_functions import load_image, NiftiMasker\n",
    "import numpy as np\n",
    "from tqdm import tqdm\n",
    "\n",
    "if os.path.basename(os.getcwd()) == 'notebooks':\n",
    "    os.chdir('..')\n",
    "\n",
    "def create_connectome_subjects(cs_roi, cs_brain, roi_list, masker_list, roi_connectome_type, brain_connectome_type, same_connectome, warning_flag):\n",
    "    # Load paths to all ROI connectome files\n",
    "    roi_connectome_files_norms = natsorted(glob(os.path.join(cs_roi, \"*_norms.npy\")))\n",
    "    roi_connectome_files = [\n",
    "        (glob(f.split(\"_norms\")[0] + \".npy\")[0], f) for f in roi_connectome_files_norms\n",
    "    ]\n",
    "\n",
    "    # Load paths to all Brain connectome files\n",
    "    brain_connectome_files_norms = natsorted(glob(os.path.join(cs_brain, \"*_norms.npy\")))\n",
    "    brain_connectome_files = [\n",
    "        (glob(f.split(\"_norms\")[0] + \".npy\")[0], f)\n",
    "        for f in brain_connectome_files_norms\n",
    "    ]\n",
    "\n",
    "    # Create ConnectomeSubject objects\n",
    "    subjects = []\n",
    "    for roi_connectome_file, brain_connectome_file in zip(roi_connectome_files, brain_connectome_files):\n",
    "        subject = ConnectomeSubject(\n",
    "            roi_connectome_file,\n",
    "            brain_connectome_file,\n",
    "            roi_list,\n",
    "            roi_connectome_type,\n",
    "            brain_connectome_type,\n",
    "            same_connectome,\n",
    "            warning_flag\n",
    "        )\n",
    "        subjects.append(subject)\n",
    "    \n",
    "    return subjects\n"
   ]
  },
  {
   "cell_type": "markdown",
   "metadata": {},
   "source": [
    "Save BOLD signal in the brain ROI as numpy arrays (probably won't be very useful, but just in case)"
   ]
  },
  {
   "cell_type": "code",
   "execution_count": 16,
   "metadata": {},
   "outputs": [],
   "source": [
    "cs_roi = '/data/nimlab/connectome_npy/GSP1000_MF'\n",
    "cs_brain = '/data/nimlab/connectome_npy/GSP1000_MF'\n",
    "masker_list = [] \n",
    "roi_connectome_type = 'volume'\n",
    "brain_connectome_type = 'volume'\n",
    "same_connectome = False\n",
    "warning_flag = True\n",
    "roi_list = {\n",
    "    1:np.atleast_2d(NiftiMasker().transform('/PHShome/jt041/projects/connectome_differences/rois/1-r_01_gsp1000MF_vs_yeo1000_csf_brainstem_roi.nii.gz')),\n",
    "    2:np.atleast_2d(NiftiMasker().transform('/PHShome/jt041/projects/connectome_differences/rois/1-r_01_gsp1000MF_vs_yeo1000_masked_brainstem_roi.nii.gz')),\n",
    "    3:np.atleast_2d(NiftiMasker().transform('/PHShome/jt041/projects/connectome_differences/rois/1-r_01_gsp1000MF_vs_yeo1000_dil_brainstem_roi.nii.gz')),\n",
    "} \n",
    "\n",
    "subjects = create_connectome_subjects(cs_roi, cs_brain, roi_list, masker_list, roi_connectome_type, brain_connectome_type, same_connectome, warning_flag)\n",
    "\n",
    "# result = cs.calculate_roi_matrix(\n",
    "#     subjects=subjects,\n",
    "#     num_workers=1\n",
    "# )\n",
    "\n",
    "if not os.path.exists('bold_signal/GSP1000_MF_bold_brainstem_masked_240.npy'):\n",
    "\n",
    "    results_120 = []\n",
    "    results_240 = []\n",
    "    for i, sub in enumerate(tqdm(subjects, desc=\"Processing subjects\")):\n",
    "        result = cs.extract_avg_signal(\n",
    "            connectome_mat=np.load(sub.brain_connectome_file),\n",
    "            roi_mat=np.atleast_2d(NiftiMasker().transform('/PHShome/jt041/projects/connectome_differences/rois/1-r_01_gsp1000MF_vs_yeo1000_masked_brainstem_roi.nii.gz')),\n",
    "        )\n",
    "        if result.shape == (240,):\n",
    "            results_240.append(result)\n",
    "        if result.shape == (120,):\n",
    "            results_120.append(result)\n",
    "\n",
    "    results_240 = np.array(results_240)\n",
    "    results_120 = np.array(results_120)\n",
    "\n",
    "    np.save('bold_signal/GSP1000_MF_bold_brainstem_masked_240.npy', results_240)\n",
    "    np.save('bold_signal/GSP1000_MF_bold_brainstem_masked_120.npy', results_120)\n",
    "\n",
    "\n"
   ]
  }
 ],
 "metadata": {
  "kernelspec": {
   "display_name": "Python 3",
   "language": "python",
   "name": "python3"
  },
  "language_info": {
   "codemirror_mode": {
    "name": "ipython",
    "version": 3
   },
   "file_extension": ".py",
   "mimetype": "text/x-python",
   "name": "python",
   "nbconvert_exporter": "python",
   "pygments_lexer": "ipython3",
   "version": "3.12.1"
  }
 },
 "nbformat": 4,
 "nbformat_minor": 2
}
