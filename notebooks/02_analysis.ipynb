{
 "cells": [
  {
   "cell_type": "markdown",
   "metadata": {},
   "source": [
    "**Create a difference map for MRT**"
   ]
  },
  {
   "cell_type": "code",
   "execution_count": 8,
   "metadata": {},
   "outputs": [],
   "source": [
    "import os\n",
    "import numpy as np\n",
    "import pandas as pd\n",
    "from nilearn import image\n",
    "from nimlab.jax_functions import load_mask, load_image, NiftiMasker\n",
    "from numpy.linalg import inv\n",
    "from nilearn.image import resample_to_img, load_img\n",
    "\n",
    "# Ensure we're in the correct directory\n",
    "if os.path.basename(os.getcwd()) == 'notebooks':\n",
    "    os.chdir('..')\n",
    "\n",
    "masker = NiftiMasker()\n",
    "mrt_gsp1000_mf = masker.transform('GSP1000_MF_networks/MRT_bilateral_T.nii.gz')\n",
    "mrt_yeo1000 = masker.transform('yeo1000_dil_networks/MRT_bilateral_T.nii.gz')\n",
    "\n",
    "# Let's threshold all negative values to 0\n",
    "mrt_gsp1000_mf = mrt_gsp1000_mf.at[mrt_gsp1000_mf < 0].set(0)\n",
    "mrt_yeo1000 = mrt_yeo1000.at[mrt_yeo1000 < 0].set(0)\n",
    "\n",
    "\n",
    "mrt_difference_map = mrt_gsp1000_mf - mrt_yeo1000\n",
    "mrt_difference_map = masker.inverse_transform(mrt_difference_map)\n",
    "mrt_difference_map.to_filename('brain_maps/mrt_difference_map.nii.gz')\n"
   ]
  },
  {
   "cell_type": "markdown",
   "metadata": {},
   "source": [
    "**Now, create a difference map for the VSM as well**"
   ]
  },
  {
   "cell_type": "code",
   "execution_count": 9,
   "metadata": {},
   "outputs": [],
   "source": [
    "import os\n",
    "import numpy as np\n",
    "import pandas as pd\n",
    "from nilearn import image\n",
    "from nimlab.jax_functions import load_mask, load_image, NiftiMasker\n",
    "from numpy.linalg import inv\n",
    "from nilearn.image import resample_to_img, load_img\n",
    "\n",
    "# Ensure we're in the correct directory\n",
    "if os.path.basename(os.getcwd()) == 'notebooks':\n",
    "    os.chdir('..')\n",
    "\n",
    "masker = NiftiMasker()\n",
    "vsm_gsp1000_mf = masker.transform('GSP1000_MF_networks/VSM_bilateral_T.nii.gz')\n",
    "vsm_yeo1000 = masker.transform('yeo1000_dil_networks/VSM_bilateral_T.nii.gz')\n",
    "\n",
    "# Let's threshold all negative values to 0\n",
    "vsm_gsp1000_mf = vsm_gsp1000_mf.at[vsm_gsp1000_mf < 0].set(0)\n",
    "vsm_yeo1000 = vsm_yeo1000.at[vsm_yeo1000 < 0].set(0)\n",
    "\n",
    "vsm_difference_map = vsm_gsp1000_mf - vsm_yeo1000\n",
    "vsm_difference_map = masker.inverse_transform(vsm_difference_map)\n",
    "vsm_difference_map.to_filename('brain_maps/vsm_difference_map.nii.gz')"
   ]
  },
  {
   "cell_type": "markdown",
   "metadata": {},
   "source": [
    "**Create a difference map for the 1-r derived brainstem ROI**"
   ]
  },
  {
   "cell_type": "code",
   "execution_count": 10,
   "metadata": {},
   "outputs": [],
   "source": [
    "import os\n",
    "import numpy as np\n",
    "import pandas as pd\n",
    "from nilearn import image\n",
    "from nimlab.jax_functions import load_mask, load_image, NiftiMasker\n",
    "from numpy.linalg import inv\n",
    "from nilearn.image import resample_to_img, load_img\n",
    "\n",
    "# Ensure we're in the correct directory\n",
    "if os.path.basename(os.getcwd()) == 'notebooks':\n",
    "    os.chdir('..')\n",
    "\n",
    "masker = NiftiMasker()\n",
    "data_gsp1000_mf = masker.transform('GSP1000_MF_networks/1-r_01_gsp1000MF_vs_yeo1000_masked_brainstem_roi_T.nii.gz')\n",
    "data_yeo1000 = masker.transform('yeo1000_dil_networks/1-r_01_gsp1000MF_vs_yeo1000_masked_brainstem_roi_T.nii.gz')\n",
    "\n",
    "# Let's threshold all negative values to 0\n",
    "data_gsp1000_mf = data_gsp1000_mf.at[data_gsp1000_mf < 0].set(0)\n",
    "data_yeo1000 = data_yeo1000.at[data_yeo1000 < 0].set(0)\n",
    "\n",
    "data_difference_map = data_gsp1000_mf - data_yeo1000\n",
    "data_difference_map = masker.inverse_transform(data_difference_map)\n",
    "data_difference_map.to_filename('brain_maps/brainstem_roi_difference.nii.gz')"
   ]
  },
  {
   "cell_type": "markdown",
   "metadata": {},
   "source": [
    "**Calculate Signal to Noise Ratio (SNR) for the 1-r derived brainstem ROI**"
   ]
  },
  {
   "cell_type": "code",
   "execution_count": 6,
   "metadata": {},
   "outputs": [
    {
     "name": "stdout",
     "output_type": "stream",
     "text": [
      "SNR for GSP1000_MF: 3.03\n",
      "SNR for GSP1000_MF (dB): 4.81 dB\n",
      "SNR for Yeo1000: 3.17\n",
      "SNR for Yeo1000 (dB): 5.02 dB\n"
     ]
    }
   ],
   "source": [
    "import os\n",
    "import numpy as np\n",
    "import pandas as pd\n",
    "from nilearn import image\n",
    "from nimlab.jax_functions import load_mask, load_image, NiftiMasker\n",
    "from numpy.linalg import inv\n",
    "from nilearn.image import resample_to_img, load_img\n",
    "\n",
    "# Ensure we're in the correct directory\n",
    "if os.path.basename(os.getcwd()) == 'notebooks':\n",
    "    os.chdir('..')\n",
    "\n",
    "# Load the brain maps using NiftiMasker\n",
    "masker = NiftiMasker()\n",
    "\n",
    "data_gsp1000_mf = masker.transform('GSP1000_MF_networks/1-r_01_gsp1000MF_vs_yeo1000_masked_brainstem_roi_T.nii.gz')\n",
    "data_yeo1000 = masker.transform('yeo1000_dil_networks/1-r_01_gsp1000MF_vs_yeo1000_masked_brainstem_roi_T.nii.gz')\n",
    "\n",
    "# Threshold all negative values to 0\n",
    "# data_gsp1000_mf = data_gsp1000_mf.at[data_gsp1000_mf < 0].set(0)\n",
    "# data_yeo1000 = data_yeo1000.at[data_yeo1000 < 0].set(0)\n",
    "\n",
    "difference_data = data_gsp1000_mf - data_yeo1000\n",
    "\n",
    "# Load the difference map\n",
    "# path = 'brain_maps/brainstem_roi_difference.nii.gz'\n",
    "# difference_data = masker.transform(path) # positive values are GSP1000_MF > Yeo1000\n",
    "\n",
    "# Threshold all negative values to 0 in the difference map\n",
    "# difference_data = difference_data.at[difference_data < 0].set(0)\n",
    "\n",
    "# Calculate the signal power (mean squared value of the original brain maps)\n",
    "signal_power_gsp1000_mf = np.mean(data_gsp1000_mf ** 2)\n",
    "signal_power_yeo1000 = np.mean(data_yeo1000 ** 2)\n",
    "\n",
    "# Calculate the noise power (mean squared value of the difference map)\n",
    "noise_power = np.mean(difference_data ** 2)\n",
    "\n",
    "# Calculate SNR for each connectome\n",
    "snr_gsp1000_mf = signal_power_gsp1000_mf / noise_power\n",
    "snr_gsp1000_mf_db = 10 * np.log10(snr_gsp1000_mf)\n",
    "\n",
    "snr_yeo1000 = signal_power_yeo1000 / noise_power\n",
    "snr_yeo1000_db = 10 * np.log10(snr_yeo1000)\n",
    "\n",
    "print(f\"SNR for GSP1000_MF: {snr_gsp1000_mf:.2f}\")\n",
    "print(f\"SNR for GSP1000_MF (dB): {snr_gsp1000_mf_db:.2f} dB\")\n",
    "print(f\"SNR for Yeo1000: {snr_yeo1000:.2f}\")\n",
    "print(f\"SNR for Yeo1000 (dB): {snr_yeo1000_db:.2f} dB\")\n",
    "\n",
    "# # Visualize the difference map\n",
    "# difference_img = masker.inverse_transform(difference_data)\n",
    "# difference_img.to_filename('difference_map_visualization.nii.gz')\n",
    "\n",
    "# import matplotlib.pyplot as plt\n",
    "# slice_index = difference_img.shape[2] // 2\n",
    "# plt.imshow(difference_img.get_fdata()[:, :, slice_index], cmap='hot')\n",
    "# plt.title('Difference Map')\n",
    "# plt.colorbar()\n",
    "# plt.show()\n"
   ]
  },
  {
   "cell_type": "markdown",
   "metadata": {},
   "source": [
    "**Let's correlate ABCD's VSM network with Yeo and GSP1000's**"
   ]
  },
  {
   "cell_type": "code",
   "execution_count": 18,
   "metadata": {},
   "outputs": [
    {
     "data": {
      "text/plain": [
       "array([0.26287946, 0.21348274], dtype=float32)"
      ]
     },
     "metadata": {},
     "output_type": "display_data"
    },
    {
     "data": {
      "text/plain": [
       "array([0.8513432], dtype=float32)"
      ]
     },
     "execution_count": 18,
     "metadata": {},
     "output_type": "execute_result"
    }
   ],
   "source": [
    "import os\n",
    "import numpy as np\n",
    "import pandas as pd\n",
    "from nilearn import image\n",
    "from nimlab.jax_functions import load_mask, load_image, NiftiMasker, correlate_map_with_references\n",
    "from numpy.linalg import inv\n",
    "from nilearn.image import resample_to_img, load_img\n",
    "\n",
    "# Ensure we're in the correct directory\n",
    "if os.path.basename(os.getcwd()) == 'notebooks':\n",
    "    os.chdir('..')\n",
    "\n",
    "abcd_vsm_path = 'abcd_networks/VSM_bilateral_lesion_T.nii.gz'\n",
    "gsp1000mf_path = 'GSP1000_MF_networks/VSM_bilateral_T.nii.gz'\n",
    "yeo1000_path = 'yeo1000_dil_networks/VSM_bilateral_T.nii.gz'\n",
    "\n",
    "correlations = correlate_map_with_references(abcd_vsm_path, [gsp1000mf_path, yeo1000_path], mask='MNI152_T1_2mm_brain_mask_dil')\n",
    "display(correlations)\n",
    "\n",
    "correlations = correlate_map_with_references(gsp1000mf_path, yeo1000_path, mask='MNI152_T1_2mm_brain_mask_dil')\n",
    "correlations\n"
   ]
  },
  {
   "cell_type": "markdown",
   "metadata": {},
   "source": [
    "**Let's correlate ABCD's MRT network with Yeo and GSP1000's**"
   ]
  },
  {
   "cell_type": "code",
   "execution_count": 19,
   "metadata": {},
   "outputs": [
    {
     "data": {
      "text/plain": [
       "array([0.35573652, 0.37528467], dtype=float32)"
      ]
     },
     "metadata": {},
     "output_type": "display_data"
    },
    {
     "data": {
      "text/plain": [
       "array([0.892824], dtype=float32)"
      ]
     },
     "execution_count": 19,
     "metadata": {},
     "output_type": "execute_result"
    }
   ],
   "source": [
    "import os\n",
    "import numpy as np\n",
    "import pandas as pd\n",
    "from nilearn import image\n",
    "from nimlab.jax_functions import load_mask, load_image, NiftiMasker, correlate_map_with_references\n",
    "from numpy.linalg import inv\n",
    "from nilearn.image import resample_to_img, load_img\n",
    "\n",
    "# Ensure we're in the correct directory\n",
    "if os.path.basename(os.getcwd()) == 'notebooks':\n",
    "    os.chdir('..')\n",
    "\n",
    "abcd_mrt_path = 'abcd_networks/MRT_bilateral_lesion_T.nii.gz'\n",
    "gsp1000mf_path = 'GSP1000_MF_networks/MRT_bilateral_T.nii.gz'\n",
    "yeo1000_path = 'yeo1000_dil_networks/MRT_bilateral_T.nii.gz'\n",
    "\n",
    "correlations = correlate_map_with_references(abcd_mrt_path, [gsp1000mf_path, yeo1000_path], mask='MNI152_T1_2mm_brain_mask_dil')\n",
    "display(correlations)\n",
    "\n",
    "correlations = correlate_map_with_references(gsp1000mf_path, yeo1000_path, mask='MNI152_T1_2mm_brain_mask_dil')\n",
    "correlations\n"
   ]
  },
  {
   "cell_type": "markdown",
   "metadata": {},
   "source": [
    "**Get the difference map between GSP1000MF and Yeo1000 for Takotsubo Non-Medulla**"
   ]
  },
  {
   "cell_type": "code",
   "execution_count": 23,
   "metadata": {},
   "outputs": [],
   "source": [
    "import os\n",
    "import numpy as np\n",
    "import pandas as pd\n",
    "from nilearn import image\n",
    "from nimlab.jax_functions import load_mask, load_image, NiftiMasker, correlate_map_with_references\n",
    "from numpy.linalg import inv\n",
    "from nilearn.image import resample_to_img, load_img\n",
    "\n",
    "# Ensure we're in the correct directory\n",
    "if os.path.basename(os.getcwd()) == 'notebooks':\n",
    "    os.chdir('..')\n",
    "\n",
    "\n",
    "gsp1000_ts_path = 'brain_maps/non_medulla_1000_mgh490_t_map.nii.gz'\n",
    "yeo_ts_path = 'brain_maps/non_medulla_yeo_mgh490_t_map.nii.gz'\n",
    "\n",
    "gsp1000_data = NiftiMasker().transform(gsp1000_ts_path)\n",
    "yeo_data = NiftiMasker().transform(yeo_ts_path)\n",
    "\n",
    "# Mask it to be positive\n",
    "gsp1000_data = gsp1000_data.at[gsp1000_data < 0].set(0)\n",
    "yeo_data = yeo_data.at[yeo_data < 0].set(0)\n",
    "\n",
    "difference_data = gsp1000_data - yeo_data\n",
    "# difference_data\n",
    "difference_map = NiftiMasker().inverse_transform(difference_data)\n",
    "difference_map.to_filename('brain_maps/ts_non-medulla_difference_map.nii.gz')"
   ]
  }
 ],
 "metadata": {
  "kernelspec": {
   "display_name": "Python 3",
   "language": "python",
   "name": "python3"
  },
  "language_info": {
   "codemirror_mode": {
    "name": "ipython",
    "version": 3
   },
   "file_extension": ".py",
   "mimetype": "text/x-python",
   "name": "python",
   "nbconvert_exporter": "python",
   "pygments_lexer": "ipython3",
   "version": "3.12.1"
  }
 },
 "nbformat": 4,
 "nbformat_minor": 2
}
